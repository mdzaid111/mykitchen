{
 "cells": [
  {
   "cell_type": "code",
   "execution_count": 1,
   "id": "62ef2aee",
   "metadata": {},
   "outputs": [],
   "source": [
    "# Import Libraries and Packages\n",
    "\n",
    "from PyPDF2 import PdfReader\n",
    "from langchain.text_splitter import RecursiveCharacterTextSplitter\n",
    "from langchain.embeddings import HuggingFaceEmbeddings\n",
    "from langchain.vectorstores import Chroma"
   ]
  },
  {
   "cell_type": "code",
   "execution_count": 2,
   "id": "f23943be",
   "metadata": {},
   "outputs": [],
   "source": [
    "# Extract text from PDFs\n",
    "\n",
    "def extract_text_from_pdf(pdf_path):\n",
    "    reader = PdfReader(pdf_path)\n",
    "    text = \"\"\n",
    "\n",
    "    for page in reader.pages:\n",
    "        text += page.extract_text()\n",
    "\n",
    "    return text"
   ]
  },
  {
   "cell_type": "code",
   "execution_count": 3,
   "id": "0d876b41",
   "metadata": {},
   "outputs": [],
   "source": [
    "pdf_text = extract_text_from_pdf(\"/Users/princekhunt/Documents/Portfolio/Smart-Kitchen-Helper/pdfs/recipes0.pdf\")"
   ]
  },
  {
   "cell_type": "code",
   "execution_count": 4,
   "id": "cc1870f6",
   "metadata": {},
   "outputs": [],
   "source": [
    "def analyze_separators(text, separators=None):\n",
    "    if separators is None:\n",
    "        separators = [\"\\n\\n\", \"\\n\", \".\", \",\", \";\", \":\", \"!\", \"?\", \"—\", \"-\", \" \"]\n",
    "\n",
    "    counts = {}\n",
    "\n",
    "    for sep in separators:\n",
    "        counts[repr(sep)] = text.count(sep)\n",
    "    \n",
    "    counts = dict(sorted(counts.items(), key=lambda x: x[1], reverse=True))\n",
    "\n",
    "    return counts"
   ]
  },
  {
   "cell_type": "code",
   "execution_count": 5,
   "id": "90f6a706",
   "metadata": {},
   "outputs": [
    {
     "data": {
      "text/plain": [
       "{\"' '\": 27401,\n",
       " \"'.'\": 13613,\n",
       " \"'\\\\n'\": 5807,\n",
       " \"','\": 839,\n",
       " \"'-'\": 506,\n",
       " \"':'\": 361,\n",
       " \"';'\": 6,\n",
       " \"'\\\\n\\\\n'\": 0,\n",
       " \"'!'\": 0,\n",
       " \"'?'\": 0,\n",
       " \"'—'\": 0}"
      ]
     },
     "execution_count": 5,
     "metadata": {},
     "output_type": "execute_result"
    }
   ],
   "source": [
    "separators_freq = analyze_separators(pdf_text)\n",
    "separators_freq"
   ]
  },
  {
   "cell_type": "code",
   "execution_count": 6,
   "id": "2c54fb2a",
   "metadata": {},
   "outputs": [],
   "source": [
    "# Initialize the text splitter\n",
    "\n",
    "text_splitter = RecursiveCharacterTextSplitter(\n",
    "    chunk_size=500,\n",
    "    chunk_overlap=50,\n",
    "    separators=[\"\\n\\n\", \"\\n\", \".\", \",\", \"-\", \":\"]\n",
    ")"
   ]
  },
  {
   "cell_type": "code",
   "execution_count": 7,
   "id": "159669b3",
   "metadata": {},
   "outputs": [
    {
     "name": "stdout",
     "output_type": "stream",
     "text": [
      "Number of chunks: 429\n",
      "['Developed by Indian Academic InstitutionsDeveloped by Indian Academic InstitutionsCompilation of recipes Compilation of recipes \\nacross India statesacross India statesFOOD AND RELATED \\nPRODUCTSCOMPILED BY:  NATIONAL CENTRE OF EXCELLENCE AND ADVANCED RESEARCH ON DIETS (NCEARD), \\nLADY IRWIN COLLEGE\\nDISCLAIMER: THE INFORMATION IS REPRODUCED AS PROVIDED BY THE INSTITUTIONS. NCEARD', 'IS NOT RESPONSIBLE FOR THE TECHNICAL ACCURACY , CONTENTS OR DEVIATIONS FROM GLOBAL GUIDELINES. EAST INDIA RECIPES  .. .. .. .. .. .. .. .. .. .. .. .. .. .. .. .. .. . 1\\nASSAM MIX . .. .. .. .. .. .. .. .. .. .. .. .. .. .. .. .. .. .. .. .. .. .. .. .. .. .. .. .. .. .. .. .. .. .. .. .. ..  2\\nMULTIGRAIN ROTI MIX . .. .. .. .. .. .. .. .. .. .. .. .. .. .. .. .. .. .. .. .. .. .. .. .. .. .. .. .. .. .. ..  4', 'GLUTEN FREE BISCUIT . .. .. .. .. .. .. .. .. .. .. .. .. .. .. .. .. .. .. .. .. .. .. .. .. .. .. .. .. .. .. ..  6\\nBALANCED ENTERAL FORMULA . .. .. .. .. .. .. .. .. .. .. .. .. .. .. .. .. .. .. .. .. .. .. .. .. .. ..  8\\nWEANING MIX  .. .. .. .. .. .. .. .. .. .. .. .. .. .. .. .. .. .. .. .. .. .. .. .. .. .. .. .. .. .. .. .. .. .. .. ..  10\\nJALPAN MIX . .. .. .. .. .. .. .. .. .. .. .. .. .. .. .. .. .. .. .. .. .. .. .. .. .. .. .. .. .. .. .. .. .. .. .. .. ..  12']\n"
     ]
    }
   ],
   "source": [
    "chunks = text_splitter.split_text(pdf_text)\n",
    "print(f\"Number of chunks: {len(chunks)}\")\n",
    "print(chunks[:3])"
   ]
  },
  {
   "cell_type": "code",
   "execution_count": 8,
   "id": "79d26066",
   "metadata": {},
   "outputs": [
    {
     "name": "stderr",
     "output_type": "stream",
     "text": [
      "/var/folders/c7/1v5wlgds2rjfw4_ldh17bj3h0000gn/T/ipykernel_66527/3401734470.py:1: LangChainDeprecationWarning: The class `HuggingFaceEmbeddings` was deprecated in LangChain 0.2.2 and will be removed in 1.0. An updated version of the class exists in the :class:`~langchain-huggingface package and should be used instead. To use it run `pip install -U :class:`~langchain-huggingface` and import as `from :class:`~langchain_huggingface import HuggingFaceEmbeddings``.\n",
      "  embeddings = HuggingFaceEmbeddings(model_name=\"all-MiniLM-L6-v2\")\n",
      "/Library/Frameworks/Python.framework/Versions/3.12/lib/python3.12/site-packages/sentence_transformers/cross_encoder/CrossEncoder.py:13: TqdmExperimentalWarning: Using `tqdm.autonotebook.tqdm` in notebook mode. Use `tqdm.tqdm` instead to force console mode (e.g. in jupyter console)\n",
      "  from tqdm.autonotebook import tqdm, trange\n"
     ]
    }
   ],
   "source": [
    "embeddings = HuggingFaceEmbeddings(model_name=\"all-MiniLM-L6-v2\")"
   ]
  },
  {
   "cell_type": "code",
   "execution_count": 9,
   "id": "9298b7e3",
   "metadata": {},
   "outputs": [],
   "source": [
    "vectorstore = Chroma.from_texts(\n",
    "    chunks,\n",
    "    embeddings,\n",
    "    persist_directory=\"./chroma_db\"\n",
    ")"
   ]
  },
  {
   "cell_type": "code",
   "execution_count": 10,
   "id": "e027ba5b",
   "metadata": {},
   "outputs": [
    {
     "name": "stderr",
     "output_type": "stream",
     "text": [
      "/var/folders/c7/1v5wlgds2rjfw4_ldh17bj3h0000gn/T/ipykernel_66527/398866168.py:1: LangChainDeprecationWarning: Since Chroma 0.4.x the manual persistence method is no longer supported as docs are automatically persisted.\n",
      "  vectorstore.persist()\n"
     ]
    }
   ],
   "source": [
    "vectorstore.persist()"
   ]
  },
  {
   "cell_type": "code",
   "execution_count": 11,
   "id": "1e3d66d1",
   "metadata": {},
   "outputs": [
    {
     "name": "stderr",
     "output_type": "stream",
     "text": [
      "/var/folders/c7/1v5wlgds2rjfw4_ldh17bj3h0000gn/T/ipykernel_66527/3813171939.py:1: LangChainDeprecationWarning: The class `Chroma` was deprecated in LangChain 0.2.9 and will be removed in 1.0. An updated version of the class exists in the :class:`~langchain-chroma package and should be used instead. To use it run `pip install -U :class:`~langchain-chroma` and import as `from :class:`~langchain_chroma import Chroma``.\n",
      "  vectorstore = Chroma(\n"
     ]
    }
   ],
   "source": [
    "vectorstore = Chroma(\n",
    "    persist_directory=\"/Users/princekhunt/Documents/Portfolio/Smart-Kitchen-Helper/notebooks/chroma_db\",\n",
    "    embedding_function=embeddings\n",
    ")"
   ]
  },
  {
   "cell_type": "code",
   "execution_count": 15,
   "id": "92444274",
   "metadata": {},
   "outputs": [
    {
     "name": "stdout",
     "output_type": "stream",
     "text": [
      "********************************\n",
      "NUTRITIOUS STUFF- I  .. .. .. .. .. .. .. .. .. .. .. .. .. .. .. .. .. .. .. .. .. .. .. .. .. .. .. .. .. .. .. ..  42\n",
      "NUTRITIOUS STUFF- II  .. .. .. .. .. .. .. .. .. .. .. .. .. .. .. .. .. .. .. .. .. .. .. .. .. .. .. .. .. .. .. ..  44\n",
      "NUTRITIOUS STUFF- III . .. .. .. .. .. .. .. .. .. .. .. .. .. .. .. .. .. .. .. .. .. .. .. .. .. .. .. .. .. .. ..  46\n",
      "TISHEE/LINSEED LADOOS  .. .. .. .. .. .. .. .. .. .. .. .. .. .. .. .. .. .. .. .. .. .. .. .. .. .. .. .. .. ..  48\n",
      "********************************\n",
      "R oast the ragi flour, linseed, gond, methi, \n",
      "white til separately and grind them. \n",
      " Pr epare Jaggery Syrup. Mix all the ingr edients well. \n",
      " Mak e small round shape ladoos using \n",
      "ghee. \n",
      "DEVELOPED BY\n",
      "Department of Home Sc., BAU, Kanke, Ranchi, Jharkhand50Madua/Ragi Ladoos\n",
      "SHELF LIFE\n",
      "20-25 days\n",
      "COST\n",
      "Rs 250.00/kg\n",
      "Energy 550 Kcal\n",
      "5 gmProtein\n",
      "75 mgCalcium\n",
      "1 mgIronNutritional Information/100 grams51Madua/Ragi Ladoos\n",
      "Target Group and \n",
      "BenefitsIngredients\n",
      " F armers/Farmwomen/Children of Farm\n",
      "********************************\n",
      "SHELF LIFE\n",
      "15-20 days\n",
      "COST\n",
      "Rs 225.00/kg\n",
      "Energy 330 Kcal\n",
      "7.82 gmProtein\n",
      "180 mgCalcium\n",
      "2.21 mgIronNutritional Information/100 grams49Tishee/Linseed ladoos\n",
      "Target Group and \n",
      "BenefitsIngredients\n",
      " F armers/Farmwomen/Children of Farm \n",
      "Families\n",
      " Students \n",
      " Ex tension Functionaries Linseed: 100gm\n",
      " Ragi/Madua A tta : 100gm\n",
      " K tira gond: 20gm\n",
      " Whit e til/sesame seeds: 10gm\n",
      " Jag gery: 120gm \n",
      " Ghee 30gm\n",
      " Me thi: 2gm\n",
      "Method of Preparation\n",
      " R oast the ragi flour, linseed, gond, methi,\n"
     ]
    }
   ],
   "source": [
    "query = \"Tishee / Linseed ladoos\"\n",
    "results = vectorstore.similarity_search(query, k=3)\n",
    "\n",
    "for r in results:\n",
    "    print(\"********************************\")\n",
    "    print(r.page_content)"
   ]
  }
 ],
 "metadata": {
  "kernelspec": {
   "display_name": "Python 3",
   "language": "python",
   "name": "python3"
  },
  "language_info": {
   "codemirror_mode": {
    "name": "ipython",
    "version": 3
   },
   "file_extension": ".py",
   "mimetype": "text/x-python",
   "name": "python",
   "nbconvert_exporter": "python",
   "pygments_lexer": "ipython3",
   "version": "3.12.4"
  }
 },
 "nbformat": 4,
 "nbformat_minor": 5
}
